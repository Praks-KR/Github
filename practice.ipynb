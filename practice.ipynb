{
 "cells": [
  {
   "cell_type": "code",
   "execution_count": 1,
   "id": "f7e37ca0",
   "metadata": {},
   "outputs": [
    {
     "name": "stdout",
     "output_type": "stream",
     "text": [
      "Cannot divide by zero.\n"
     ]
    }
   ],
   "source": [
    "try:\n",
    "    print(1/0)\n",
    "except ZeroDivisionError:\n",
    "    print(\"Cannot divide by zero.\")\n",
    "except Exception as e:\n",
    "    print(\"Error occurred:\", e)"
   ]
  },
  {
   "cell_type": "code",
   "execution_count": 2,
   "id": "fac9e9d3",
   "metadata": {},
   "outputs": [
    {
     "name": "stdout",
     "output_type": "stream",
     "text": [
      "Woof\n"
     ]
    }
   ],
   "source": [
    "class Pet:\n",
    "    def __init__(self, name, sound):\n",
    "        self.name = name\n",
    "        self.sound = sound\n",
    "\n",
    "    def speak(self):\n",
    "        print(self.sound)\n",
    "\n",
    "my_pet = Pet(\"Buster\", \"Woof\")\n",
    "my_pet.speak()"
   ]
  },
  {
   "cell_type": "code",
   "execution_count": 4,
   "id": "44c14c5b",
   "metadata": {},
   "outputs": [
    {
     "name": "stdout",
     "output_type": "stream",
     "text": [
      "Appended '3' to stack: ['3']\n",
      "Appended '[' to stack: ['3', '[']\n",
      "Appended 'b' to stack: ['3', '[', 'b']\n",
      "Appended 'c' to stack: ['3', '[', 'b', 'c']\n",
      "Appended 'd' to stack: ['3', '[', 'b', 'c', 'd']\n",
      "Found substring: 'bcd'\n",
      "Found number: '3'\n",
      "Stack after processing: ['bcdbcdbcd']\n",
      "Appended '2' to stack: ['bcdbcdbcd', '2']\n",
      "Appended '[' to stack: ['bcdbcdbcd', '2', '[']\n",
      "Appended 'a' to stack: ['bcdbcdbcd', '2', '[', 'a']\n",
      "Found substring: 'a'\n",
      "Found number: '2'\n",
      "Stack after processing: ['bcdbcdbcd', 'aa']\n",
      "bcdbcdbcdaa\n"
     ]
    }
   ],
   "source": [
    "def decode_string(s):\n",
    "    stack = []\n",
    "    \n",
    "    for char in s:\n",
    "        if char != ']':\n",
    "            stack.append(char)\n",
    "            print(f\"Appended '{char}' to stack: {stack}\")\n",
    "        else:\n",
    "            # Step 1: Get the string inside []\n",
    "            substr = ''\n",
    "            while stack and stack[-1] != '[':\n",
    "                substr = stack.pop() + substr\n",
    "            stack.pop()  # remove '['\n",
    "            print(f\"Found substring: '{substr}'\")\n",
    "            \n",
    "            # Step 2: Get the number before [\n",
    "            num = ''\n",
    "            while stack and stack[-1].isdigit():\n",
    "                num = stack.pop() + num\n",
    "                print(f\"Found number: '{num}'\")\n",
    "            \n",
    "            # Step 3: Repeat and push back to stack\n",
    "            stack.append(int(num) * substr)\n",
    "            print(f\"Stack after processing: {stack}\")\n",
    "    \n",
    "    return ''.join(stack)\n",
    "\n",
    "# Test\n",
    "input_str = \"3[bcd]2[a]\"\n",
    "print(decode_string(input_str))  # Output: aaabcbc\n"
   ]
  },
  {
   "cell_type": "code",
   "execution_count": 13,
   "id": "ceb3fb1f",
   "metadata": {},
   "outputs": [
    {
     "data": {
      "text/plain": [
       "False"
      ]
     },
     "execution_count": 13,
     "metadata": {},
     "output_type": "execute_result"
    }
   ],
   "source": [
    "word='123ab'\n",
    "word.isdigit()  # Output: False\n"
   ]
  },
  {
   "cell_type": "code",
   "execution_count": 2,
   "id": "7ac8cf9c",
   "metadata": {},
   "outputs": [
    {
     "data": {
      "text/plain": [
       "4"
      ]
     },
     "execution_count": 2,
     "metadata": {},
     "output_type": "execute_result"
    }
   ],
   "source": [
    "import numpy as np\n",
    "a = np.array([[1, 2], [3, 4]], dtype=int)\n",
    "a[1,1]"
   ]
  },
  {
   "cell_type": "code",
   "execution_count": 7,
   "id": "2d1bb5b4",
   "metadata": {},
   "outputs": [
    {
     "name": "stdout",
     "output_type": "stream",
     "text": [
      "Array 1:\n",
      " [[2 4 5]\n",
      " [4 5 3]\n",
      " [4 1 9]]\n",
      "Array 2:\n",
      " [[8 6 4]\n",
      " [3 3 2]\n",
      " [2 6 1]]\n"
     ]
    }
   ],
   "source": [
    "np.sort(a) \n",
    "array1 = np.random.randint(0, 10, size=(3, 3))\n",
    "array2 = np.random.randint(0, 10, size=(3, 3))\n",
    "print(\"Array 1:\\n\", array1)\n",
    "print(\"Array 2:\\n\", array2)"
   ]
  },
  {
   "cell_type": "code",
   "execution_count": 24,
   "id": "df197f30",
   "metadata": {},
   "outputs": [
    {
     "data": {
      "text/plain": [
       "array([[6, 4],\n",
       "       [3, 2]])"
      ]
     },
     "execution_count": 24,
     "metadata": {},
     "output_type": "execute_result"
    }
   ],
   "source": [
    "array2[:2,1:]"
   ]
  },
  {
   "cell_type": "code",
   "execution_count": 29,
   "id": "541a33dc",
   "metadata": {},
   "outputs": [
    {
     "data": {
      "text/plain": [
       "array([10, 20, 30])"
      ]
     },
     "execution_count": 29,
     "metadata": {},
     "output_type": "execute_result"
    }
   ],
   "source": [
    "arr = np.array([[10, 20, 30], [30, 50, 60], [40, 30, 90]])\n",
    "a,b,c= np.vstack((arr[0], arr[1], arr[2]))\n",
    "a"
   ]
  },
  {
   "cell_type": "code",
   "execution_count": null,
   "id": "056f2aa4",
   "metadata": {},
   "outputs": [
    {
     "data": {
      "text/plain": [
       "[30]"
      ]
     },
     "execution_count": 31,
     "metadata": {},
     "output_type": "execute_result"
    },
    {
     "ename": "",
     "evalue": "",
     "output_type": "error",
     "traceback": [
      "\u001b[1;31mThe Kernel crashed while executing code in the current cell or a previous cell. \n",
      "\u001b[1;31mPlease review the code in the cell(s) to identify a possible cause of the failure. \n",
      "\u001b[1;31mClick <a href='https://aka.ms/vscodeJupyterKernelCrash'>here</a> for more info. \n",
      "\u001b[1;31mView Jupyter <a href='command:jupyter.viewOutput'>log</a> for further details."
     ]
    }
   ],
   "source": [
    "list((set(a)&set(b)&set(c))) # Output: [30, 40, 50]"
   ]
  },
  {
   "cell_type": "code",
   "execution_count": 22,
   "id": "a19ff0c4",
   "metadata": {},
   "outputs": [
    {
     "data": {
      "text/plain": [
       "array([[0., 0., 0., 0.],\n",
       "       [0., 0., 0., 0.],\n",
       "       [0., 0., 0., 0.]])"
      ]
     },
     "execution_count": 22,
     "metadata": {},
     "output_type": "execute_result"
    }
   ],
   "source": [
    "b=np.zeros((3, 4))  # Creates a 2x3 array filled with zeros\n",
    "b.shape\n",
    "b"
   ]
  },
  {
   "cell_type": "code",
   "execution_count": null,
   "id": "67a31cb7",
   "metadata": {},
   "outputs": [],
   "source": [
    "a='3a'\n",
    "escaped_a = a.replace('[', '').replace(']', '')\n",
    "b=print(escaped_a)\n",
    "for letter in b:\n",
    "    if letter.isdigit():\n",
    "        num= int(letter)\n",
    "        print(f\"'{letter}' is a digit.\")\n",
    "    else:\n",
    "        character = letter\n",
    "        print(f\"'{letter}' is not a digit.\")\n",
    "print(num*character)"
   ]
  },
  {
   "cell_type": "code",
   "execution_count": null,
   "id": "24137bef",
   "metadata": {},
   "outputs": [
    {
     "name": "stdout",
     "output_type": "stream",
     "text": [
      "Final output: axeaxeaxebcbc\n"
     ]
    }
   ],
   "source": [
    "import re\n",
    "input_str = \"3[axe]2[bc]\"\n",
    "num_list = list(map(int, re.findall(r'\\d+', input_str)))\n",
    "#print(\"Numbers found:\", num_list)  # Output: [3, 2]\n",
    "str_list=re.findall(r'[a-zA-Z]+', input_str)\n",
    "#print(\"Strings found:\", str_list)  # Output: ['a', 'bc']\n",
    "final_output = []\n",
    "for num, s in zip(num_list, str_list):\n",
    "    final_output.extend([s] * num)\n",
    "    #print(f\"Extended final_output with {s} * {num}: {final_output}\")\n",
    "    result = ''.join(final_output)\n",
    "print(\"Final output:\", result)  # Output: ['3', '2', 'a', 'b', 'c']\n"
   ]
  },
  {
   "cell_type": "code",
   "execution_count": null,
   "id": "f2c9648b",
   "metadata": {},
   "outputs": [
    {
     "data": {
      "text/plain": [
       "[108.0, 99, 135.0, 180.0, 30, 50, 80, 90, 99.0, 126.0]"
      ]
     },
     "execution_count": 18,
     "metadata": {},
     "output_type": "execute_result"
    }
   ],
   "source": [
    "prices=[120, 99, 150, 200,30, 50, 80, 90, 110, 140]\n",
    "discounts=[price*0.9 if price > 100 else price for price in prices ]\n",
    "discounts"
   ]
  },
  {
   "cell_type": "code",
   "execution_count": null,
   "id": "a6db71d1",
   "metadata": {},
   "outputs": [],
   "source": [
    "escaped_a = a.replace('[', '\\\\[').replace(']', '\\\\]')\n",
    "print(escaped_a)"
   ]
  },
  {
   "cell_type": "code",
   "execution_count": 14,
   "id": "8494e7c0",
   "metadata": {},
   "outputs": [
    {
     "name": "stdout",
     "output_type": "stream",
     "text": [
      "-1826646154956904602\n",
      "immutable set\n"
     ]
    }
   ],
   "source": [
    "fs = frozenset({1, 2})\n",
    "print(hash(fs))  # ✅ works\n",
    "\n",
    "# Use as a key in a dict\n",
    "my_dict = {fs: \"immutable set\"}\n",
    "print(my_dict[frozenset({1, 2})]) "
   ]
  },
  {
   "cell_type": "code",
   "execution_count": 20,
   "id": "a20417be",
   "metadata": {},
   "outputs": [
    {
     "name": "stdout",
     "output_type": "stream",
     "text": [
      "{3}\n"
     ]
    }
   ],
   "source": [
    "set_a = {1, 2, 3}\n",
    "set_b = {3, 4, 5}\n",
    "print(set_a & set_b)"
   ]
  },
  {
   "cell_type": "code",
   "execution_count": 24,
   "id": "a815b520",
   "metadata": {},
   "outputs": [
    {
     "data": {
      "text/plain": [
       "[2, 4, 8]"
      ]
     },
     "execution_count": 24,
     "metadata": {},
     "output_type": "execute_result"
    }
   ],
   "source": [
    "s = {1, 2, 3}\n",
    "s.add(7)\n",
    "[x for x in range(10) if x % 2 == 0 if x % 3 != 0]"
   ]
  },
  {
   "cell_type": "code",
   "execution_count": 28,
   "id": "1351325f",
   "metadata": {},
   "outputs": [
    {
     "data": {
      "text/plain": [
       "{1: 1, 2: 4, 3: 9, 4: 16, 5: 25}"
      ]
     },
     "execution_count": 28,
     "metadata": {},
     "output_type": "execute_result"
    }
   ],
   "source": [
    "d={x:x*x for x in range(1,6)}\n",
    "d"
   ]
  },
  {
   "cell_type": "code",
   "execution_count": 19,
   "id": "3139faa0",
   "metadata": {},
   "outputs": [
    {
     "data": {
      "text/plain": [
       "{1: 'a', 2: 'b'}"
      ]
     },
     "execution_count": 19,
     "metadata": {},
     "output_type": "execute_result"
    }
   ],
   "source": [
    "{v: k for k, v in {'a': 1, 'b': 2}.items()}"
   ]
  },
  {
   "cell_type": "code",
   "execution_count": null,
   "id": "9159fc4a",
   "metadata": {},
   "outputs": [
    {
     "name": "stdout",
     "output_type": "stream",
     "text": [
      "Swapping elements at indices 0 and 5\n",
      "Swapped 6 and 1: [6, 2, 3, 4, 5, 1]\n",
      "Swapping elements at indices 1 and 4\n",
      "Swapped 5 and 2: [6, 5, 3, 4, 2, 1]\n",
      "Swapping elements at indices 2 and 3\n",
      "Swapped 4 and 3: [6, 5, 4, 3, 2, 1]\n",
      "[6, 5, 4, 3, 2, 1]\n"
     ]
    }
   ],
   "source": [
    "arr = [1, 2, 3, 4, 5,6]\n",
    "n = len(arr)\n",
    "\n",
    "for i in range(n // 2):\n",
    "    print(f\"Swapping elements at indices {i} and {n - 1 - i}\")\n",
    "    arr[i], arr[n - 1 - i] = arr[n - 1 - i], arr[i]\n",
    "    print(f\"Swapped {arr[i]} and {arr[n - 1 - i]}: {arr}\")\n",
    "\n",
    "print(arr)  # [5, 4, 3, 2, 1]\n"
   ]
  },
  {
   "cell_type": "code",
   "execution_count": 9,
   "id": "474c3ff6",
   "metadata": {},
   "outputs": [
    {
     "name": "stdout",
     "output_type": "stream",
     "text": [
      "Current character: h\n",
      "Reversed so far: h\n",
      "Current character: e\n",
      "Reversed so far: eh\n",
      "Current character: l\n",
      "Reversed so far: leh\n",
      "Current character: l\n",
      "Reversed so far: lleh\n",
      "Current character: o\n",
      "Reversed so far: olleh\n",
      "olleh\n"
     ]
    }
   ],
   "source": [
    "s = \"hello\"\n",
    "reversed_s = \"\"\n",
    "for char in s:\n",
    "    print(f\"Current character: {char}\")\n",
    "    reversed_s = char + reversed_s\n",
    "    print(f\"Reversed so far: {reversed_s}\")\n",
    "print(reversed_s)  # olleh\n"
   ]
  },
  {
   "cell_type": "code",
   "execution_count": 15,
   "id": "4a0a8a09",
   "metadata": {},
   "outputs": [
    {
     "name": "stdout",
     "output_type": "stream",
     "text": [
      "Current number: 12340\n",
      "0\n",
      "Reversed number so far: 0\n",
      "Current number: 1234\n",
      "4\n",
      "Reversed number so far: 4\n",
      "Current number: 123\n",
      "3\n",
      "Reversed number so far: 43\n",
      "Current number: 12\n",
      "2\n",
      "Reversed number so far: 432\n",
      "Current number: 1\n",
      "1\n",
      "Reversed number so far: 4321\n",
      "4321\n"
     ]
    }
   ],
   "source": [
    "num = 12340\n",
    "reversed_num = 0\n",
    "\n",
    "while num > 0:\n",
    "    print(f\"Current number: {num}\")\n",
    "    digit = num % 10  \n",
    "    print(digit)         # get last digit\n",
    "    reversed_num = reversed_num * 10 + digit\n",
    "    print(f\"Reversed number so far: {reversed_num}\")\n",
    "    num //= 10                 # remove last digit\n",
    "\n",
    "print(reversed_num)  # 54321\n"
   ]
  },
  {
   "cell_type": "code",
   "execution_count": 13,
   "id": "aff84a5b",
   "metadata": {},
   "outputs": [
    {
     "data": {
      "text/plain": [
       "3"
      ]
     },
     "execution_count": 13,
     "metadata": {},
     "output_type": "execute_result"
    }
   ],
   "source": [
    "123%10"
   ]
  },
  {
   "cell_type": "code",
   "execution_count": 36,
   "id": "775bda66",
   "metadata": {},
   "outputs": [
    {
     "name": "stdout",
     "output_type": "stream",
     "text": [
      "First: 3, Second: 0\n",
      "First: 4, Second: 3\n",
      "First: 7, Second: 4\n",
      "Second: 5\n",
      "First: 9, Second: 7\n",
      "Second: 8\n"
     ]
    }
   ],
   "source": [
    "import math\n",
    "a=[3,4,7,5,2,9,8]\n",
    "first=second =0\n",
    "for num in a:\n",
    "    if num>first:     \n",
    "        second = first\n",
    "        first=num\n",
    "        print(f\"First: {first}, Second: {second}\")\n",
    "    elif num>second and num != first:\n",
    "        second = num\n",
    "        print(f\"Second: {second}\")\n"
   ]
  },
  {
   "cell_type": "code",
   "execution_count": 8,
   "id": "03fb6f52",
   "metadata": {},
   "outputs": [
    {
     "name": "stdout",
     "output_type": "stream",
     "text": [
      " result: {2, 3, 5, 6}\n"
     ]
    }
   ],
   "source": [
    "array=[3,3,2,3,5,5,6]\n",
    "\n",
    "result = [array[0]]  # Start with the first element\n",
    "for i in range(1, len(array)):\n",
    "    if array[i] != array[i - 1]:  # Check if current element is different from the last added\n",
    "        result.append(array[i])\n",
    "print(f\" result: {set(result)}\")"
   ]
  },
  {
   "cell_type": "code",
   "execution_count": 10,
   "id": "b0db5bf2",
   "metadata": {},
   "outputs": [
    {
     "name": "stdout",
     "output_type": "stream",
     "text": [
      "Added 1 from arr1\n",
      "Added 2 from arr2\n",
      "Added 3 from arr1\n",
      "Added 4 from arr2\n",
      "Added 6 from arr2\n",
      "[1, 2, 3, 4, 6, 7]\n"
     ]
    }
   ],
   "source": [
    "def merge_sorted_arrays(arr1, arr2):\n",
    "    i = j = 0\n",
    "    result = []\n",
    "    \n",
    "    while i < len(arr1) and j < len(arr2):\n",
    "        if arr1[i] <= arr2[j]:\n",
    "            result.append(arr1[i])\n",
    "            print(f\"Added {arr1[i]} from arr1\")\n",
    "            i += 1\n",
    "        else:\n",
    "            result.append(arr2[j])\n",
    "            print(f\"Added {arr2[j]} from arr2\")\n",
    "            j += 1\n",
    "    \n",
    "    # Add remaining elements\n",
    "    result.extend(arr1[i:])\n",
    "    result.extend(arr2[j:])\n",
    "    \n",
    "    return result\n",
    "\n",
    "# Example\n",
    "a = [1, 3, 7]\n",
    "b = [2, 4, 6]\n",
    "print(merge_sorted_arrays(a, b))  # [1, 2, 3, 4, 5, 6]\n"
   ]
  }
 ],
 "metadata": {
  "kernelspec": {
   "display_name": "base",
   "language": "python",
   "name": "python3"
  },
  "language_info": {
   "codemirror_mode": {
    "name": "ipython",
    "version": 3
   },
   "file_extension": ".py",
   "mimetype": "text/x-python",
   "name": "python",
   "nbconvert_exporter": "python",
   "pygments_lexer": "ipython3",
   "version": "3.8.5"
  }
 },
 "nbformat": 4,
 "nbformat_minor": 5
}
